{
  "nbformat": 4,
  "nbformat_minor": 0,
  "metadata": {
    "colab": {
      "provenance": [],
      "mount_file_id": "1I7uN_-F8dZTOI0oIJbL6K2tbDwuYcTYZ",
      "authorship_tag": "ABX9TyN4bOdTzFLq3SQAtMPZielj",
      "include_colab_link": true
    },
    "kernelspec": {
      "name": "python3",
      "display_name": "Python 3"
    },
    "language_info": {
      "name": "python"
    }
  },
  "cells": [
    {
      "cell_type": "markdown",
      "metadata": {
        "id": "view-in-github",
        "colab_type": "text"
      },
      "source": [
        "<a href=\"https://colab.research.google.com/github/ritika2024/Lumpy-Skin-Diseases-using-deep-learning/blob/main/SPLITTING_OF_DATA.ipynb\" target=\"_parent\"><img src=\"https://colab.research.google.com/assets/colab-badge.svg\" alt=\"Open In Colab\"/></a>"
      ]
    },
    {
      "cell_type": "code",
      "execution_count": null,
      "metadata": {
        "id": "vPnJ37ZZUiaR"
      },
      "outputs": [],
      "source": [
        "import splitfolders # or import splitfolders\n",
        "input_folder = \"/content/drive/MyDrive/AUGMENTED NEW/AUGMENTED\"\n",
        "output = \"/content/drive/MyDrive/OUTPUT NEW \" #where you want the split datasets saved. one will be created if it does not exist or none is set\n",
        "\n",
        "splitfolders.ratio(input_folder, output=output, seed=42, ratio=(.80, .0, .20))  #train val test"
      ]
    },
    {
      "cell_type": "code",
      "source": [
        "from google.colab import drive\n",
        "drive.mount('/content/drive')"
      ],
      "metadata": {
        "colab": {
          "base_uri": "https://localhost:8080/"
        },
        "id": "DWV-IwFzUvMs",
        "outputId": "2bc1414d-74bc-4768-e8e6-fd24249ff03b"
      },
      "execution_count": 2,
      "outputs": [
        {
          "output_type": "stream",
          "name": "stdout",
          "text": [
            "Drive already mounted at /content/drive; to attempt to forcibly remount, call drive.mount(\"/content/drive\", force_remount=True).\n"
          ]
        }
      ]
    },
    {
      "cell_type": "markdown",
      "source": [
        "# New Section"
      ],
      "metadata": {
        "id": "AtJ7dQFuOl03"
      }
    }
  ]
}